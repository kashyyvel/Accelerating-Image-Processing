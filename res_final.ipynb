{
  "nbformat": 4,
  "nbformat_minor": 0,
  "metadata": {
    "colab": {
      "provenance": []
    },
    "kernelspec": {
      "name": "python3",
      "display_name": "Python 3"
    },
    "language_info": {
      "name": "python"
    }
  },
  "cells": [
    {
      "cell_type": "code",
      "execution_count": null,
      "metadata": {
        "id": "tP-0uPgzveqG"
      },
      "outputs": [],
      "source": []
    },
    {
      "cell_type": "code",
      "source": [
        "%%shell\n",
        "\n",
        "# Install OpenCV\n",
        "apt-get -qq update\n",
        "apt-get -qq install -y libopencv-dev"
      ],
      "metadata": {
        "colab": {
          "base_uri": "https://localhost:8080/"
        },
        "id": "RM9F3Bp_vfO0",
        "outputId": "23af1ac1-8757-4aef-abec-270be3c53424"
      },
      "execution_count": 1,
      "outputs": [
        {
          "output_type": "execute_result",
          "data": {
            "text/plain": []
          },
          "metadata": {},
          "execution_count": 1
        }
      ]
    },
    {
      "cell_type": "code",
      "source": [
        "!pip install opencv-python"
      ],
      "metadata": {
        "colab": {
          "base_uri": "https://localhost:8080/"
        },
        "id": "SomuBy5avfmn",
        "outputId": "775e9626-b8a4-47cc-ea68-41499865faad"
      },
      "execution_count": 2,
      "outputs": [
        {
          "output_type": "stream",
          "name": "stdout",
          "text": [
            "Requirement already satisfied: opencv-python in /usr/local/lib/python3.10/dist-packages (4.8.0.76)\n",
            "Requirement already satisfied: numpy>=1.21.2 in /usr/local/lib/python3.10/dist-packages (from opencv-python) (1.25.2)\n"
          ]
        }
      ]
    },
    {
      "cell_type": "code",
      "source": [
        "!apt-get -qq update\n",
        "!apt-get -qq install -y libopencv-dev"
      ],
      "metadata": {
        "id": "E_UPhBUwvk8O"
      },
      "execution_count": 3,
      "outputs": []
    },
    {
      "cell_type": "code",
      "source": [
        "%%shell\n",
        "\n",
        "g++ -o conv conv.cpp -I/usr/include/opencv2/ `pkg-config --cflags --libs opencv4`"
      ],
      "metadata": {
        "colab": {
          "base_uri": "https://localhost:8080/"
        },
        "id": "612QNRt_vqlt",
        "outputId": "de480685-a323-48e0-cc9c-3499813b797d"
      },
      "execution_count": 4,
      "outputs": [
        {
          "output_type": "execute_result",
          "data": {
            "text/plain": []
          },
          "metadata": {},
          "execution_count": 4
        }
      ]
    },
    {
      "cell_type": "code",
      "source": [
        "%%shell\n",
        "\n",
        "./conv"
      ],
      "metadata": {
        "colab": {
          "base_uri": "https://localhost:8080/"
        },
        "id": "0xpLpF45vs90",
        "outputId": "fb104330-0810-4ae5-e1ac-d565c5f4ea8d"
      },
      "execution_count": 5,
      "outputs": [
        {
          "output_type": "stream",
          "name": "stdout",
          "text": [
            "For different values of N, Plot speed up with respect to the number of processing elements\n",
            "N: 100, Speedup: 127.5\n",
            "N: 200, Speedup: 31.875\n",
            "N: 300, Speedup: 14.1667\n",
            "N: 400, Speedup: 8.22581\n",
            "N: 500, Speedup: 5.20408\n",
            "N: 600, Speedup: 3.35526\n",
            "N: 700, Speedup: 2.55\n",
            "N: 800, Speedup: 2.02381\n",
            "N: 900, Speedup: 1.57407\n",
            "N: 1000, Speedup: 1.275\n",
            "\n",
            "For different numbers of processing elements, Plot speedup with respect to N\n",
            "Threads: 1, Speedup: 1.2201\n",
            "Threads: 2, Speedup: 1.32124\n",
            "Threads: 4, Speedup: 1.35638\n",
            "Threads: 8, Speedup: 1.33508\n"
          ]
        },
        {
          "output_type": "execute_result",
          "data": {
            "text/plain": []
          },
          "metadata": {},
          "execution_count": 5
        }
      ]
    },
    {
      "cell_type": "code",
      "source": [],
      "metadata": {
        "id": "cWP9duYDvvsX"
      },
      "execution_count": null,
      "outputs": []
    }
  ]
}